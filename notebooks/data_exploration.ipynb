{
 "cells": [
  {
   "cell_type": "markdown",
   "metadata": {},
   "source": [
    "# Data Exploration"
   ]
  },
  {
   "cell_type": "code",
   "execution_count": 1,
   "metadata": {},
   "outputs": [],
   "source": [
    "%matplotlib widget"
   ]
  },
  {
   "cell_type": "code",
   "execution_count": 2,
   "metadata": {},
   "outputs": [
    {
     "name": "stdout",
     "output_type": "stream",
     "text": [
      "Libraries loaded successfully!\n"
     ]
    }
   ],
   "source": [
    "# Import libraries\n",
    "import pandas as pd\n",
    "import numpy as np\n",
    "import matplotlib.pyplot as plt\n",
    "import seaborn as sns\n",
    "\n",
    "from matplotlib import rcParams\n",
    "import shutil\n",
    "\n",
    "# Enable LaTeX fonts only if TeX is available\n",
    "if shutil.which(\"latex\"):\n",
    "    rcParams['text.usetex'] = True\n",
    "    rcParams['font.family'] = 'serif'\n",
    "else:\n",
    "    print(\"LaTeX not found — using default matplotlib fonts.\")\n",
    "\n",
    "# Set display options\n",
    "pd.set_option('display.max_columns', None)\n",
    "pd.set_option('display.width', None)\n",
    "\n",
    "print(\"Libraries loaded successfully!\")"
   ]
  },
  {
   "cell_type": "code",
   "execution_count": 3,
   "metadata": {},
   "outputs": [
    {
     "name": "stdout",
     "output_type": "stream",
     "text": [
      "Datasets loaded successfully!\n",
      "\n",
      "Orders shape: (99441, 8)\n",
      "Order items shape: (112650, 7)\n"
     ]
    }
   ],
   "source": [
    "# Load the main datasets we need\n",
    "orders = pd.read_csv('../data/raw/olist_orders_dataset.csv')\n",
    "order_items = pd.read_csv('../data/raw/olist_order_items_dataset.csv')\n",
    "\n",
    "print(\"Datasets loaded successfully!\")\n",
    "print(\"\\nOrders shape:\", orders.shape)\n",
    "print(\"Order items shape:\", order_items.shape)"
   ]
  },
  {
   "cell_type": "code",
   "execution_count": 4,
   "metadata": {},
   "outputs": [
    {
     "data": {
      "text/html": [
       "<div>\n",
       "<style scoped>\n",
       "    .dataframe tbody tr th:only-of-type {\n",
       "        vertical-align: middle;\n",
       "    }\n",
       "\n",
       "    .dataframe tbody tr th {\n",
       "        vertical-align: top;\n",
       "    }\n",
       "\n",
       "    .dataframe thead th {\n",
       "        text-align: right;\n",
       "    }\n",
       "</style>\n",
       "<table border=\"1\" class=\"dataframe\">\n",
       "  <thead>\n",
       "    <tr style=\"text-align: right;\">\n",
       "      <th></th>\n",
       "      <th>order_id</th>\n",
       "      <th>customer_id</th>\n",
       "      <th>order_status</th>\n",
       "      <th>order_purchase_timestamp</th>\n",
       "      <th>order_approved_at</th>\n",
       "      <th>order_delivered_carrier_date</th>\n",
       "      <th>order_delivered_customer_date</th>\n",
       "      <th>order_estimated_delivery_date</th>\n",
       "    </tr>\n",
       "  </thead>\n",
       "  <tbody>\n",
       "    <tr>\n",
       "      <th>0</th>\n",
       "      <td>e481f51cbdc54678b7cc49136f2d6af7</td>\n",
       "      <td>9ef432eb6251297304e76186b10a928d</td>\n",
       "      <td>delivered</td>\n",
       "      <td>2017-10-02 10:56:33</td>\n",
       "      <td>2017-10-02 11:07:15</td>\n",
       "      <td>2017-10-04 19:55:00</td>\n",
       "      <td>2017-10-10 21:25:13</td>\n",
       "      <td>2017-10-18 00:00:00</td>\n",
       "    </tr>\n",
       "    <tr>\n",
       "      <th>1</th>\n",
       "      <td>53cdb2fc8bc7dce0b6741e2150273451</td>\n",
       "      <td>b0830fb4747a6c6d20dea0b8c802d7ef</td>\n",
       "      <td>delivered</td>\n",
       "      <td>2018-07-24 20:41:37</td>\n",
       "      <td>2018-07-26 03:24:27</td>\n",
       "      <td>2018-07-26 14:31:00</td>\n",
       "      <td>2018-08-07 15:27:45</td>\n",
       "      <td>2018-08-13 00:00:00</td>\n",
       "    </tr>\n",
       "    <tr>\n",
       "      <th>2</th>\n",
       "      <td>47770eb9100c2d0c44946d9cf07ec65d</td>\n",
       "      <td>41ce2a54c0b03bf3443c3d931a367089</td>\n",
       "      <td>delivered</td>\n",
       "      <td>2018-08-08 08:38:49</td>\n",
       "      <td>2018-08-08 08:55:23</td>\n",
       "      <td>2018-08-08 13:50:00</td>\n",
       "      <td>2018-08-17 18:06:29</td>\n",
       "      <td>2018-09-04 00:00:00</td>\n",
       "    </tr>\n",
       "    <tr>\n",
       "      <th>3</th>\n",
       "      <td>949d5b44dbf5de918fe9c16f97b45f8a</td>\n",
       "      <td>f88197465ea7920adcdbec7375364d82</td>\n",
       "      <td>delivered</td>\n",
       "      <td>2017-11-18 19:28:06</td>\n",
       "      <td>2017-11-18 19:45:59</td>\n",
       "      <td>2017-11-22 13:39:59</td>\n",
       "      <td>2017-12-02 00:28:42</td>\n",
       "      <td>2017-12-15 00:00:00</td>\n",
       "    </tr>\n",
       "    <tr>\n",
       "      <th>4</th>\n",
       "      <td>ad21c59c0840e6cb83a9ceb5573f8159</td>\n",
       "      <td>8ab97904e6daea8866dbdbc4fb7aad2c</td>\n",
       "      <td>delivered</td>\n",
       "      <td>2018-02-13 21:18:39</td>\n",
       "      <td>2018-02-13 22:20:29</td>\n",
       "      <td>2018-02-14 19:46:34</td>\n",
       "      <td>2018-02-16 18:17:02</td>\n",
       "      <td>2018-02-26 00:00:00</td>\n",
       "    </tr>\n",
       "  </tbody>\n",
       "</table>\n",
       "</div>"
      ],
      "text/plain": [
       "                           order_id                       customer_id  \\\n",
       "0  e481f51cbdc54678b7cc49136f2d6af7  9ef432eb6251297304e76186b10a928d   \n",
       "1  53cdb2fc8bc7dce0b6741e2150273451  b0830fb4747a6c6d20dea0b8c802d7ef   \n",
       "2  47770eb9100c2d0c44946d9cf07ec65d  41ce2a54c0b03bf3443c3d931a367089   \n",
       "3  949d5b44dbf5de918fe9c16f97b45f8a  f88197465ea7920adcdbec7375364d82   \n",
       "4  ad21c59c0840e6cb83a9ceb5573f8159  8ab97904e6daea8866dbdbc4fb7aad2c   \n",
       "\n",
       "  order_status order_purchase_timestamp    order_approved_at  \\\n",
       "0    delivered      2017-10-02 10:56:33  2017-10-02 11:07:15   \n",
       "1    delivered      2018-07-24 20:41:37  2018-07-26 03:24:27   \n",
       "2    delivered      2018-08-08 08:38:49  2018-08-08 08:55:23   \n",
       "3    delivered      2017-11-18 19:28:06  2017-11-18 19:45:59   \n",
       "4    delivered      2018-02-13 21:18:39  2018-02-13 22:20:29   \n",
       "\n",
       "  order_delivered_carrier_date order_delivered_customer_date  \\\n",
       "0          2017-10-04 19:55:00           2017-10-10 21:25:13   \n",
       "1          2018-07-26 14:31:00           2018-08-07 15:27:45   \n",
       "2          2018-08-08 13:50:00           2018-08-17 18:06:29   \n",
       "3          2017-11-22 13:39:59           2017-12-02 00:28:42   \n",
       "4          2018-02-14 19:46:34           2018-02-16 18:17:02   \n",
       "\n",
       "  order_estimated_delivery_date  \n",
       "0           2017-10-18 00:00:00  \n",
       "1           2018-08-13 00:00:00  \n",
       "2           2018-09-04 00:00:00  \n",
       "3           2017-12-15 00:00:00  \n",
       "4           2018-02-26 00:00:00  "
      ]
     },
     "execution_count": 4,
     "metadata": {},
     "output_type": "execute_result"
    }
   ],
   "source": [
    "orders.head()"
   ]
  },
  {
   "cell_type": "code",
   "execution_count": 5,
   "metadata": {},
   "outputs": [
    {
     "name": "stdout",
     "output_type": "stream",
     "text": [
      "ORDERS columns:\n",
      "['order_id', 'customer_id', 'order_status', 'order_purchase_timestamp', 'order_approved_at', 'order_delivered_carrier_date', 'order_delivered_customer_date', 'order_estimated_delivery_date']\n",
      "\n",
      "\n",
      "First 3 rows of ORDERS:\n"
     ]
    },
    {
     "data": {
      "text/html": [
       "<div>\n",
       "<style scoped>\n",
       "    .dataframe tbody tr th:only-of-type {\n",
       "        vertical-align: middle;\n",
       "    }\n",
       "\n",
       "    .dataframe tbody tr th {\n",
       "        vertical-align: top;\n",
       "    }\n",
       "\n",
       "    .dataframe thead th {\n",
       "        text-align: right;\n",
       "    }\n",
       "</style>\n",
       "<table border=\"1\" class=\"dataframe\">\n",
       "  <thead>\n",
       "    <tr style=\"text-align: right;\">\n",
       "      <th></th>\n",
       "      <th>order_id</th>\n",
       "      <th>customer_id</th>\n",
       "      <th>order_status</th>\n",
       "      <th>order_purchase_timestamp</th>\n",
       "      <th>order_approved_at</th>\n",
       "      <th>order_delivered_carrier_date</th>\n",
       "      <th>order_delivered_customer_date</th>\n",
       "      <th>order_estimated_delivery_date</th>\n",
       "    </tr>\n",
       "  </thead>\n",
       "  <tbody>\n",
       "    <tr>\n",
       "      <th>0</th>\n",
       "      <td>e481f51cbdc54678b7cc49136f2d6af7</td>\n",
       "      <td>9ef432eb6251297304e76186b10a928d</td>\n",
       "      <td>delivered</td>\n",
       "      <td>2017-10-02 10:56:33</td>\n",
       "      <td>2017-10-02 11:07:15</td>\n",
       "      <td>2017-10-04 19:55:00</td>\n",
       "      <td>2017-10-10 21:25:13</td>\n",
       "      <td>2017-10-18 00:00:00</td>\n",
       "    </tr>\n",
       "    <tr>\n",
       "      <th>1</th>\n",
       "      <td>53cdb2fc8bc7dce0b6741e2150273451</td>\n",
       "      <td>b0830fb4747a6c6d20dea0b8c802d7ef</td>\n",
       "      <td>delivered</td>\n",
       "      <td>2018-07-24 20:41:37</td>\n",
       "      <td>2018-07-26 03:24:27</td>\n",
       "      <td>2018-07-26 14:31:00</td>\n",
       "      <td>2018-08-07 15:27:45</td>\n",
       "      <td>2018-08-13 00:00:00</td>\n",
       "    </tr>\n",
       "    <tr>\n",
       "      <th>2</th>\n",
       "      <td>47770eb9100c2d0c44946d9cf07ec65d</td>\n",
       "      <td>41ce2a54c0b03bf3443c3d931a367089</td>\n",
       "      <td>delivered</td>\n",
       "      <td>2018-08-08 08:38:49</td>\n",
       "      <td>2018-08-08 08:55:23</td>\n",
       "      <td>2018-08-08 13:50:00</td>\n",
       "      <td>2018-08-17 18:06:29</td>\n",
       "      <td>2018-09-04 00:00:00</td>\n",
       "    </tr>\n",
       "  </tbody>\n",
       "</table>\n",
       "</div>"
      ],
      "text/plain": [
       "                           order_id                       customer_id  \\\n",
       "0  e481f51cbdc54678b7cc49136f2d6af7  9ef432eb6251297304e76186b10a928d   \n",
       "1  53cdb2fc8bc7dce0b6741e2150273451  b0830fb4747a6c6d20dea0b8c802d7ef   \n",
       "2  47770eb9100c2d0c44946d9cf07ec65d  41ce2a54c0b03bf3443c3d931a367089   \n",
       "\n",
       "  order_status order_purchase_timestamp    order_approved_at  \\\n",
       "0    delivered      2017-10-02 10:56:33  2017-10-02 11:07:15   \n",
       "1    delivered      2018-07-24 20:41:37  2018-07-26 03:24:27   \n",
       "2    delivered      2018-08-08 08:38:49  2018-08-08 08:55:23   \n",
       "\n",
       "  order_delivered_carrier_date order_delivered_customer_date  \\\n",
       "0          2017-10-04 19:55:00           2017-10-10 21:25:13   \n",
       "1          2018-07-26 14:31:00           2018-08-07 15:27:45   \n",
       "2          2018-08-08 13:50:00           2018-08-17 18:06:29   \n",
       "\n",
       "  order_estimated_delivery_date  \n",
       "0           2017-10-18 00:00:00  \n",
       "1           2018-08-13 00:00:00  \n",
       "2           2018-09-04 00:00:00  "
      ]
     },
     "execution_count": 5,
     "metadata": {},
     "output_type": "execute_result"
    }
   ],
   "source": [
    "# Check columns in orders dataset\n",
    "print(\"ORDERS columns:\")\n",
    "print(orders.columns.tolist())\n",
    "print(\"\\n\")\n",
    "\n",
    "# Check first few rows\n",
    "print(\"First 3 rows of ORDERS:\")\n",
    "orders.head(3)"
   ]
  },
  {
   "cell_type": "code",
   "execution_count": 6,
   "metadata": {},
   "outputs": [
    {
     "name": "stdout",
     "output_type": "stream",
     "text": [
      "ORDER ITEMS columns:\n",
      "['order_id', 'order_item_id', 'product_id', 'seller_id', 'shipping_limit_date', 'price', 'freight_value']\n",
      "\n",
      "\n",
      "First 3 rows of ORDER ITEMS:\n"
     ]
    },
    {
     "data": {
      "text/html": [
       "<div>\n",
       "<style scoped>\n",
       "    .dataframe tbody tr th:only-of-type {\n",
       "        vertical-align: middle;\n",
       "    }\n",
       "\n",
       "    .dataframe tbody tr th {\n",
       "        vertical-align: top;\n",
       "    }\n",
       "\n",
       "    .dataframe thead th {\n",
       "        text-align: right;\n",
       "    }\n",
       "</style>\n",
       "<table border=\"1\" class=\"dataframe\">\n",
       "  <thead>\n",
       "    <tr style=\"text-align: right;\">\n",
       "      <th></th>\n",
       "      <th>order_id</th>\n",
       "      <th>order_item_id</th>\n",
       "      <th>product_id</th>\n",
       "      <th>seller_id</th>\n",
       "      <th>shipping_limit_date</th>\n",
       "      <th>price</th>\n",
       "      <th>freight_value</th>\n",
       "    </tr>\n",
       "  </thead>\n",
       "  <tbody>\n",
       "    <tr>\n",
       "      <th>0</th>\n",
       "      <td>00010242fe8c5a6d1ba2dd792cb16214</td>\n",
       "      <td>1</td>\n",
       "      <td>4244733e06e7ecb4970a6e2683c13e61</td>\n",
       "      <td>48436dade18ac8b2bce089ec2a041202</td>\n",
       "      <td>2017-09-19 09:45:35</td>\n",
       "      <td>58.9</td>\n",
       "      <td>13.29</td>\n",
       "    </tr>\n",
       "    <tr>\n",
       "      <th>1</th>\n",
       "      <td>00018f77f2f0320c557190d7a144bdd3</td>\n",
       "      <td>1</td>\n",
       "      <td>e5f2d52b802189ee658865ca93d83a8f</td>\n",
       "      <td>dd7ddc04e1b6c2c614352b383efe2d36</td>\n",
       "      <td>2017-05-03 11:05:13</td>\n",
       "      <td>239.9</td>\n",
       "      <td>19.93</td>\n",
       "    </tr>\n",
       "    <tr>\n",
       "      <th>2</th>\n",
       "      <td>000229ec398224ef6ca0657da4fc703e</td>\n",
       "      <td>1</td>\n",
       "      <td>c777355d18b72b67abbeef9df44fd0fd</td>\n",
       "      <td>5b51032eddd242adc84c38acab88f23d</td>\n",
       "      <td>2018-01-18 14:48:30</td>\n",
       "      <td>199.0</td>\n",
       "      <td>17.87</td>\n",
       "    </tr>\n",
       "  </tbody>\n",
       "</table>\n",
       "</div>"
      ],
      "text/plain": [
       "                           order_id  order_item_id  \\\n",
       "0  00010242fe8c5a6d1ba2dd792cb16214              1   \n",
       "1  00018f77f2f0320c557190d7a144bdd3              1   \n",
       "2  000229ec398224ef6ca0657da4fc703e              1   \n",
       "\n",
       "                         product_id                         seller_id  \\\n",
       "0  4244733e06e7ecb4970a6e2683c13e61  48436dade18ac8b2bce089ec2a041202   \n",
       "1  e5f2d52b802189ee658865ca93d83a8f  dd7ddc04e1b6c2c614352b383efe2d36   \n",
       "2  c777355d18b72b67abbeef9df44fd0fd  5b51032eddd242adc84c38acab88f23d   \n",
       "\n",
       "   shipping_limit_date  price  freight_value  \n",
       "0  2017-09-19 09:45:35   58.9          13.29  \n",
       "1  2017-05-03 11:05:13  239.9          19.93  \n",
       "2  2018-01-18 14:48:30  199.0          17.87  "
      ]
     },
     "execution_count": 6,
     "metadata": {},
     "output_type": "execute_result"
    }
   ],
   "source": [
    "# Check columns in order_items dataset\n",
    "print(\"ORDER ITEMS columns:\")\n",
    "print(order_items.columns.tolist())\n",
    "print(\"\\n\")\n",
    "\n",
    "# Check first few rows\n",
    "print(\"First 3 rows of ORDER ITEMS:\")\n",
    "order_items.head(3)"
   ]
  },
  {
   "cell_type": "code",
   "execution_count": 7,
   "metadata": {},
   "outputs": [
    {
     "name": "stdout",
     "output_type": "stream",
     "text": [
      "Merged dataset shape: (112650, 14)\n",
      "\n",
      "First 3 rows:\n"
     ]
    },
    {
     "data": {
      "text/html": [
       "<div>\n",
       "<style scoped>\n",
       "    .dataframe tbody tr th:only-of-type {\n",
       "        vertical-align: middle;\n",
       "    }\n",
       "\n",
       "    .dataframe tbody tr th {\n",
       "        vertical-align: top;\n",
       "    }\n",
       "\n",
       "    .dataframe thead th {\n",
       "        text-align: right;\n",
       "    }\n",
       "</style>\n",
       "<table border=\"1\" class=\"dataframe\">\n",
       "  <thead>\n",
       "    <tr style=\"text-align: right;\">\n",
       "      <th></th>\n",
       "      <th>order_id</th>\n",
       "      <th>customer_id</th>\n",
       "      <th>order_status</th>\n",
       "      <th>order_purchase_timestamp</th>\n",
       "      <th>order_approved_at</th>\n",
       "      <th>order_delivered_carrier_date</th>\n",
       "      <th>order_delivered_customer_date</th>\n",
       "      <th>order_estimated_delivery_date</th>\n",
       "      <th>order_item_id</th>\n",
       "      <th>product_id</th>\n",
       "      <th>seller_id</th>\n",
       "      <th>shipping_limit_date</th>\n",
       "      <th>price</th>\n",
       "      <th>freight_value</th>\n",
       "    </tr>\n",
       "  </thead>\n",
       "  <tbody>\n",
       "    <tr>\n",
       "      <th>0</th>\n",
       "      <td>e481f51cbdc54678b7cc49136f2d6af7</td>\n",
       "      <td>9ef432eb6251297304e76186b10a928d</td>\n",
       "      <td>delivered</td>\n",
       "      <td>2017-10-02 10:56:33</td>\n",
       "      <td>2017-10-02 11:07:15</td>\n",
       "      <td>2017-10-04 19:55:00</td>\n",
       "      <td>2017-10-10 21:25:13</td>\n",
       "      <td>2017-10-18 00:00:00</td>\n",
       "      <td>1</td>\n",
       "      <td>87285b34884572647811a353c7ac498a</td>\n",
       "      <td>3504c0cb71d7fa48d967e0e4c94d59d9</td>\n",
       "      <td>2017-10-06 11:07:15</td>\n",
       "      <td>29.99</td>\n",
       "      <td>8.72</td>\n",
       "    </tr>\n",
       "    <tr>\n",
       "      <th>1</th>\n",
       "      <td>53cdb2fc8bc7dce0b6741e2150273451</td>\n",
       "      <td>b0830fb4747a6c6d20dea0b8c802d7ef</td>\n",
       "      <td>delivered</td>\n",
       "      <td>2018-07-24 20:41:37</td>\n",
       "      <td>2018-07-26 03:24:27</td>\n",
       "      <td>2018-07-26 14:31:00</td>\n",
       "      <td>2018-08-07 15:27:45</td>\n",
       "      <td>2018-08-13 00:00:00</td>\n",
       "      <td>1</td>\n",
       "      <td>595fac2a385ac33a80bd5114aec74eb8</td>\n",
       "      <td>289cdb325fb7e7f891c38608bf9e0962</td>\n",
       "      <td>2018-07-30 03:24:27</td>\n",
       "      <td>118.70</td>\n",
       "      <td>22.76</td>\n",
       "    </tr>\n",
       "    <tr>\n",
       "      <th>2</th>\n",
       "      <td>47770eb9100c2d0c44946d9cf07ec65d</td>\n",
       "      <td>41ce2a54c0b03bf3443c3d931a367089</td>\n",
       "      <td>delivered</td>\n",
       "      <td>2018-08-08 08:38:49</td>\n",
       "      <td>2018-08-08 08:55:23</td>\n",
       "      <td>2018-08-08 13:50:00</td>\n",
       "      <td>2018-08-17 18:06:29</td>\n",
       "      <td>2018-09-04 00:00:00</td>\n",
       "      <td>1</td>\n",
       "      <td>aa4383b373c6aca5d8797843e5594415</td>\n",
       "      <td>4869f7a5dfa277a7dca6462dcf3b52b2</td>\n",
       "      <td>2018-08-13 08:55:23</td>\n",
       "      <td>159.90</td>\n",
       "      <td>19.22</td>\n",
       "    </tr>\n",
       "  </tbody>\n",
       "</table>\n",
       "</div>"
      ],
      "text/plain": [
       "                           order_id                       customer_id  \\\n",
       "0  e481f51cbdc54678b7cc49136f2d6af7  9ef432eb6251297304e76186b10a928d   \n",
       "1  53cdb2fc8bc7dce0b6741e2150273451  b0830fb4747a6c6d20dea0b8c802d7ef   \n",
       "2  47770eb9100c2d0c44946d9cf07ec65d  41ce2a54c0b03bf3443c3d931a367089   \n",
       "\n",
       "  order_status order_purchase_timestamp    order_approved_at  \\\n",
       "0    delivered      2017-10-02 10:56:33  2017-10-02 11:07:15   \n",
       "1    delivered      2018-07-24 20:41:37  2018-07-26 03:24:27   \n",
       "2    delivered      2018-08-08 08:38:49  2018-08-08 08:55:23   \n",
       "\n",
       "  order_delivered_carrier_date order_delivered_customer_date  \\\n",
       "0          2017-10-04 19:55:00           2017-10-10 21:25:13   \n",
       "1          2018-07-26 14:31:00           2018-08-07 15:27:45   \n",
       "2          2018-08-08 13:50:00           2018-08-17 18:06:29   \n",
       "\n",
       "  order_estimated_delivery_date  order_item_id  \\\n",
       "0           2017-10-18 00:00:00              1   \n",
       "1           2018-08-13 00:00:00              1   \n",
       "2           2018-09-04 00:00:00              1   \n",
       "\n",
       "                         product_id                         seller_id  \\\n",
       "0  87285b34884572647811a353c7ac498a  3504c0cb71d7fa48d967e0e4c94d59d9   \n",
       "1  595fac2a385ac33a80bd5114aec74eb8  289cdb325fb7e7f891c38608bf9e0962   \n",
       "2  aa4383b373c6aca5d8797843e5594415  4869f7a5dfa277a7dca6462dcf3b52b2   \n",
       "\n",
       "   shipping_limit_date   price  freight_value  \n",
       "0  2017-10-06 11:07:15   29.99           8.72  \n",
       "1  2018-07-30 03:24:27  118.70          22.76  \n",
       "2  2018-08-13 08:55:23  159.90          19.22  "
      ]
     },
     "execution_count": 7,
     "metadata": {},
     "output_type": "execute_result"
    }
   ],
   "source": [
    "# Merge orders with order_items to get pricing information\n",
    "orders_with_items = orders.merge(order_items, on='order_id', how='inner')\n",
    "\n",
    "print(\"Merged dataset shape:\", orders_with_items.shape)\n",
    "print(\"\\nFirst 3 rows:\")\n",
    "orders_with_items.head(3)"
   ]
  },
  {
   "cell_type": "code",
   "execution_count": 8,
   "metadata": {},
   "outputs": [
    {
     "name": "stdout",
     "output_type": "stream",
     "text": [
      "PRICE STATISTICS:\n",
      "Mean price: 120.65373901464714\n",
      "Median price: 74.99\n",
      "Min price: 0.85\n",
      "Max price: 6735.0\n",
      "\n",
      "\n",
      "SHIPPING COST STATISTICS:\n",
      "Mean shipping: 19.990319928983578\n",
      "Median shipping: 16.26\n",
      "Min shipping: 0.0\n",
      "Max shipping: 409.68\n",
      "\n",
      "\n",
      "TOTAL ORDER VALUE STATISTICS:\n",
      "Mean total: 140.6440589436307\n",
      "Median total: 92.32000000000001\n"
     ]
    }
   ],
   "source": [
    "# Calculate total order value (price + shipping) for each item\n",
    "orders_with_items['total_value'] = orders_with_items['price'] + orders_with_items['freight_value']\n",
    "\n",
    "# Calculate summary statistics\n",
    "print(\"PRICE STATISTICS:\")\n",
    "print(\"Mean price:\", orders_with_items['price'].mean())\n",
    "print(\"Median price:\", orders_with_items['price'].median())\n",
    "print(\"Min price:\", orders_with_items['price'].min())\n",
    "print(\"Max price:\", orders_with_items['price'].max())\n",
    "\n",
    "print(\"\\n\")\n",
    "\n",
    "print(\"SHIPPING COST STATISTICS:\")\n",
    "print(\"Mean shipping:\", orders_with_items['freight_value'].mean())\n",
    "print(\"Median shipping:\", orders_with_items['freight_value'].median())\n",
    "print(\"Min shipping:\", orders_with_items['freight_value'].min())\n",
    "print(\"Max shipping:\", orders_with_items['freight_value'].max())\n",
    "\n",
    "print(\"\\n\")\n",
    "\n",
    "print(\"TOTAL ORDER VALUE STATISTICS:\")\n",
    "print(\"Mean total:\", orders_with_items['total_value'].mean())\n",
    "print(\"Median total:\", orders_with_items['total_value'].median())"
   ]
  },
  {
   "cell_type": "code",
   "execution_count": 9,
   "metadata": {},
   "outputs": [
    {
     "name": "stdout",
     "output_type": "stream",
     "text": [
      "\n",
      "Orders below 100 BRL: 72165\n",
      "Orders above 100 BRL: 40485\n",
      "Percentage above 100 BRL: 35.938748335552596\n"
     ]
    },
    {
     "data": {
      "application/vnd.jupyter.widget-view+json": {
       "model_id": "508e79eb8a9a48b395700c1f4319a399",
       "version_major": 2,
       "version_minor": 0
      },
      "image/png": "[encoded data removed]",
      "text/html": [
       "\n",
       "            <div style=\"display: inline-block;\">\n",
       "                <div class=\"jupyter-widgets widget-label\" style=\"text-align: center;\">\n",
       "                    Figure\n",
       "                </div>\n",
       "                <img src='data:image/png;base64,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' width=800.0/>\n",
       "            </div>\n",
       "        "
      ],
      "text/plain": [
       "Canvas(toolbar=Toolbar(toolitems=[('Home', 'Reset original view', 'home', 'home'), ('Back', 'Back to previous …"
      ]
     },
     "metadata": {},
     "output_type": "display_data"
    }
   ],
   "source": [
    "# Create a simple histogram of order prices\n",
    "plt.figure(figsize=(8, 4))\n",
    "plt.hist(orders_with_items['price'], bins=5000, edgecolor='black')\n",
    "plt.xlabel('Order Price (BRL)')\n",
    "plt.ylabel('Frequency')\n",
    "plt.title('Distribution of Order Prices')\n",
    "plt.axvline(x=100, color='red', linestyle='--', label='Potential threshold: 100 BRL')\n",
    "plt.legend()\n",
    "plt.grid()\n",
    "# plt.xlim(0,1000)\n",
    "plt.savefig(\"./../results/figures/item_price_distribution_with_threshold.png\", dpi = 300, bbox_inches='tight')\n",
    "# plt.show()\n",
    "\n",
    "# Count orders above and below 100 BRL threshold\n",
    "orders_below_100 = (orders_with_items['price'] < 100).sum()\n",
    "orders_above_100 = (orders_with_items['price'] >= 100).sum()\n",
    "\n",
    "print(\"\\nOrders below 100 BRL:\", orders_below_100)\n",
    "print(\"Orders above 100 BRL:\", orders_above_100)\n",
    "print(\"Percentage above 100 BRL:\", (orders_above_100 / len(orders_with_items)) * 100)"
   ]
  },
  {
   "cell_type": "code",
   "execution_count": 10,
   "metadata": {},
   "outputs": [
    {
     "name": "stdout",
     "output_type": "stream",
     "text": [
      "Order-level dataset shape: (98666, 5)\n",
      "\n",
      "First 5 orders:\n",
      "                           order_id  total_price  total_shipping  num_items  \\\n",
      "0  00010242fe8c5a6d1ba2dd792cb16214        58.90           13.29          1   \n",
      "1  00018f77f2f0320c557190d7a144bdd3       239.90           19.93          1   \n",
      "2  000229ec398224ef6ca0657da4fc703e       199.00           17.87          1   \n",
      "3  00024acbcdf0a6daa1e931b038114c75        12.99           12.79          1   \n",
      "4  00042b26cf59d7ce69dfabb4e55b4fd9       199.90           18.14          1   \n",
      "\n",
      "   order_total  \n",
      "0        72.19  \n",
      "1       259.83  \n",
      "2       216.87  \n",
      "3        25.78  \n",
      "4       218.04  \n",
      "\n",
      "\n",
      "ORDER LEVEL STATISTICS:\n",
      "Mean order price: 137.7540763788945\n",
      "Median order price: 86.9\n",
      "Mean order total (price + shipping): 160.57763809214927\n",
      "Median order total: 105.29\n"
     ]
    }
   ],
   "source": [
    "# Group by order_id to get total per order\n",
    "order_totals = orders_with_items.groupby('order_id').agg(\n",
    "    total_price=('price', 'sum'),\n",
    "    total_shipping=('freight_value', 'sum'),\n",
    "    num_items=('order_item_id', 'count')\n",
    ").reset_index()\n",
    "\n",
    "# Calculate combined total\n",
    "order_totals['order_total'] = order_totals['total_price'] + order_totals['total_shipping']\n",
    "\n",
    "print(\"Order-level dataset shape:\", order_totals.shape)\n",
    "print(\"\\nFirst 5 orders:\")\n",
    "print(order_totals.head())\n",
    "\n",
    "print(\"\\n\")\n",
    "print(\"ORDER LEVEL STATISTICS:\")\n",
    "print(\"Mean order price:\", order_totals['total_price'].mean())\n",
    "print(\"Median order price:\", order_totals['total_price'].median())\n",
    "print(\"Mean order total (price + shipping):\", order_totals['order_total'].mean())\n",
    "print(\"Median order total:\", order_totals['order_total'].median())"
   ]
  },
  {
   "cell_type": "code",
   "execution_count": 11,
   "metadata": {},
   "outputs": [
    {
     "name": "stdout",
     "output_type": "stream",
     "text": [
      "\n",
      "At ORDER level:\n",
      "Orders below 100 BRL: 57707\n",
      "Orders above 100 BRL: 40959\n",
      "Percentage above 100 BRL: 41.51278049176008\n",
      "\n",
      "\n",
      "Mean shipping cost: 22.823561713254815\n"
     ]
    },
    {
     "data": {
      "application/vnd.jupyter.widget-view+json": {
       "model_id": "35c7449c545143d5a64859ff677e2790",
       "version_major": 2,
       "version_minor": 0
      },
      "image/png": "[encoded data removed]",
      "text/html": [
       "\n",
       "            <div style=\"display: inline-block;\">\n",
       "                <div class=\"jupyter-widgets widget-label\" style=\"text-align: center;\">\n",
       "                    Figure\n",
       "                </div>\n",
       "                <img src='data:image/png;base64,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' width=800.0/>\n",
       "            </div>\n",
       "        "
      ],
      "text/plain": [
       "Canvas(toolbar=Toolbar(toolitems=[('Home', 'Reset original view', 'home', 'home'), ('Back', 'Back to previous …"
      ]
     },
     "metadata": {},
     "output_type": "display_data"
    }
   ],
   "source": [
    "# Visualize order-level price distribution\n",
    "plt.figure(figsize=(8, 4))\n",
    "plt.hist(order_totals['total_price'], bins=50, edgecolor='black')\n",
    "plt.xlabel('Total Order Price (BRL)')\n",
    "plt.ylabel('Frequency')\n",
    "plt.title('Distribution of Total Order Prices (Order Level)')\n",
    "plt.axvline(x=100, color='red', linestyle='--', label='Threshold: 100 BRL')\n",
    "plt.legend()\n",
    "plt.grid()\n",
    "plt.savefig(\"./../results/figures/order_price_distribution_with_threshold.png\", dpi = 300, bbox_inches='tight')\n",
    "# plt.show()\n",
    "\n",
    "# Count orders above and below threshold\n",
    "orders_below = (order_totals['total_price'] < 100).sum()\n",
    "orders_above = (order_totals['total_price'] >= 100).sum()\n",
    "percentage_above = (orders_above / len(order_totals)) * 100\n",
    "\n",
    "print(\"\\nAt ORDER level:\")\n",
    "print(\"Orders below 100 BRL:\", orders_below)\n",
    "print(\"Orders above 100 BRL:\", orders_above)\n",
    "print(\"Percentage above 100 BRL:\", percentage_above)\n",
    "\n",
    "print(\"\\n\")\n",
    "print(\"Mean shipping cost:\", order_totals['total_shipping'].mean())"
   ]
  },
  {
   "cell_type": "code",
   "execution_count": 12,
   "metadata": {},
   "outputs": [
    {
     "name": "stdout",
     "output_type": "stream",
     "text": [
      "Data saved successfully!\n",
      "\n",
      "Dataset contains 98666 orders\n"
     ]
    }
   ],
   "source": [
    "# Save the order-level data for next notebooks\n",
    "order_totals.to_csv('../data/processed/order_totals.csv', index=False)\n",
    "print(\"Data saved successfully!\")\n",
    "print(\"\\nDataset contains\", len(order_totals), \"orders\")"
   ]
  },
  {
   "cell_type": "code",
   "execution_count": null,
   "metadata": {},
   "outputs": [],
   "source": []
  },
  {
   "cell_type": "code",
   "execution_count": null,
   "metadata": {},
   "outputs": [],
   "source": []
  }
 ],
 "metadata": {
  "kernelspec": {
   "display_name": "base",
   "language": "python",
   "name": "python3"
  },
  "language_info": {
   "codemirror_mode": {
    "name": "ipython",
    "version": 3
   },
   "file_extension": ".py",
   "mimetype": "text/x-python",
   "name": "python",
   "nbconvert_exporter": "python",
   "pygments_lexer": "ipython3",
   "version": "3.12.2"
  }
 },
 "nbformat": 4,
 "nbformat_minor": 4
}
