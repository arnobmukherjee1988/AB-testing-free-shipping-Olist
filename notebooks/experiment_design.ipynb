{
 "cells": [
  {
   "cell_type": "markdown",
   "metadata": {},
   "source": [
    "# Experiment Design"
   ]
  },
  {
   "cell_type": "markdown",
   "metadata": {},
   "source": [
    "### Objective\n",
    "Evaluate, via A/B testing, whether free shipping on orders ≥ 100 BRL increases total revenue.\n",
    "\n",
    "### Question to address\n",
    "Should free shipping for orders above 100 BRL be implemented?\n",
    "\n",
    "### Approach\n",
    "1. Define hypotheses (null vs. increase in revenue).\n",
    "2. Select primary/secondary metrics.\n",
    "3. Compute required sample size (power, alpha, MDE).\n",
    "4. Plan randomization and assignment.\n"
   ]
  },
  {
   "cell_type": "code",
   "execution_count": 1,
   "metadata": {},
   "outputs": [],
   "source": [
    "%matplotlib widget"
   ]
  },
  {
   "cell_type": "code",
   "execution_count": 2,
   "metadata": {},
   "outputs": [
    {
     "name": "stdout",
     "output_type": "stream",
     "text": [
      "Libraries loaded successfully!\n"
     ]
    }
   ],
   "source": [
    "# Import libraries\n",
    "import pandas as pd\n",
    "import numpy as np\n",
    "import matplotlib.pyplot as plt\n",
    "from scipy import stats\n",
    "import math\n",
    "\n",
    "from matplotlib import rcParams\n",
    "import shutil\n",
    "\n",
    "# Enable LaTeX fonts only if TeX is available\n",
    "if shutil.which(\"latex\"):\n",
    "    rcParams['text.usetex'] = True\n",
    "    rcParams['font.family'] = 'serif'\n",
    "else:\n",
    "    print(\"LaTeX not found — using default matplotlib fonts.\")\n",
    "\n",
    "print(\"Libraries loaded successfully!\")"
   ]
  },
  {
   "cell_type": "code",
   "execution_count": 3,
   "metadata": {},
   "outputs": [
    {
     "name": "stdout",
     "output_type": "stream",
     "text": [
      "Data loaded successfully!\n",
      "Number of orders: 98666\n",
      "\n",
      "First 5 rows:\n",
      "                           order_id  total_price  total_shipping  num_items  \\\n",
      "0  00010242fe8c5a6d1ba2dd792cb16214        58.90           13.29          1   \n",
      "1  00018f77f2f0320c557190d7a144bdd3       239.90           19.93          1   \n",
      "2  000229ec398224ef6ca0657da4fc703e       199.00           17.87          1   \n",
      "3  00024acbcdf0a6daa1e931b038114c75        12.99           12.79          1   \n",
      "4  00042b26cf59d7ce69dfabb4e55b4fd9       199.90           18.14          1   \n",
      "\n",
      "   order_total  \n",
      "0        72.19  \n",
      "1       259.83  \n",
      "2       216.87  \n",
      "3        25.78  \n",
      "4       218.04  \n"
     ]
    }
   ],
   "source": [
    "# Load the order-level data we prepared in Notebook 01\n",
    "order_totals = pd.read_csv('../data/processed/order_totals.csv')\n",
    "\n",
    "print(\"Data loaded successfully!\")\n",
    "print(\"Number of orders:\", len(order_totals))\n",
    "print(\"\\nFirst 5 rows:\")\n",
    "print(order_totals.head())"
   ]
  },
  {
   "cell_type": "markdown",
   "metadata": {},
   "source": [
    "## Hypothesis Definition\n",
    "\n",
    "### Null hypothesis (H0)\n",
    "Free shipping for orders ≥ 100 BRL has no effect on revenue per customer.  \n",
    "$$\\mu_{\\text{treatment}} = \\mu_{\\text{control}}$$\n",
    "\n",
    "### Alternative hypothesis (H1)\n",
    "Free shipping for orders ≥ 100 BRL increases revenue per customer.  \n",
    "$$\\mu_{\\text{treatment}} > \\mu_{\\text{control}}$$\n",
    "\n",
    "### Explanation\n",
    "- **$\\mu_{\\text{control}}$**: Average revenue per customer in the control group (no free shipping).  \n",
    "- **$\\mu_{\\text{treatment}}$**: Average revenue per customer in the treatment group (offered free shipping).  \n",
    "\n",
    "If both means are equal, the promotion has no effect.  \n",
    "If the treatment mean is higher, free shipping increases customer spending.\n"
   ]
  },
  {
   "cell_type": "code",
   "execution_count": 4,
   "metadata": {},
   "outputs": [
    {
     "name": "stdout",
     "output_type": "stream",
     "text": [
      "BASELINE METRICS (Current State):\n",
      "==================================================\n",
      "Mean revenue per order: 160.58 BRL\n",
      "Mean product price per order: 137.75 BRL\n",
      "Mean shipping per order: 22.82 BRL\n",
      "Mean items per order: 1.14 items\n",
      "\n",
      "\n",
      "Standard deviation of revenue: 220.47 BRL\n"
     ]
    }
   ],
   "source": [
    "# Calculate baseline metrics from historical data\n",
    "\n",
    "# Primary metric: Revenue per order (what customer pays)\n",
    "baseline_revenue = order_totals['order_total'].mean()\n",
    "\n",
    "# Secondary metrics\n",
    "baseline_price = order_totals['total_price'].mean()\n",
    "baseline_shipping = order_totals['total_shipping'].mean()\n",
    "baseline_items = order_totals['num_items'].mean()\n",
    "\n",
    "print(\"BASELINE METRICS (Current State):\")\n",
    "print(\"=\"*50)\n",
    "print(f\"Mean revenue per order: {baseline_revenue:.2f} BRL\")\n",
    "print(f\"Mean product price per order: {baseline_price:.2f} BRL\")\n",
    "print(f\"Mean shipping per order: {baseline_shipping:.2f} BRL\")\n",
    "print(f\"Mean items per order: {baseline_items:.2f} items\")\n",
    "\n",
    "print(\"\\n\")\n",
    "\n",
    "# Calculate standard deviation (we'll need this for power analysis)\n",
    "revenue_std = order_totals['order_total'].std()\n",
    "print(f\"Standard deviation of revenue: {revenue_std:.2f} BRL\")"
   ]
  },
  {
   "cell_type": "code",
   "execution_count": 5,
   "metadata": {},
   "outputs": [
    {
     "name": "stdout",
     "output_type": "stream",
     "text": [
      "MINIMUM DETECTABLE EFFECT:\n",
      "==================================================\n",
      "We want to detect at least: 5.0% increase\n",
      "In absolute terms: 8.03 BRL per order\n",
      "\n",
      "Current mean revenue: 160.58 BRL\n",
      "Target mean revenue: 168.61 BRL\n",
      "\n",
      "\n",
      "BUSINESS JUSTIFICATION:\n",
      "==================================================\n",
      "Average shipping cost absorbed: 22.82 BRL\n",
      "Required revenue increase to break even: 22.82 BRL\n",
      "Our target increase: 8.03 BRL\n",
      "Target increase may not fully cover shipping costs\n"
     ]
    }
   ],
   "source": [
    "# Minimum Detectable Effect (MDE)\n",
    "# This is the smallest change we care about detecting\n",
    "\n",
    "# We want to detect at least a 5% increase in revenue\n",
    "minimum_effect_percentage = 5.0\n",
    "\n",
    "# Calculate what this means in absolute terms\n",
    "minimum_effect_brl = baseline_revenue * (minimum_effect_percentage / 100)\n",
    "\n",
    "print(\"MINIMUM DETECTABLE EFFECT:\")\n",
    "print(\"=\"*50)\n",
    "print(f\"We want to detect at least: {minimum_effect_percentage}% increase\")\n",
    "print(f\"In absolute terms: {minimum_effect_brl:.2f} BRL per order\")\n",
    "print(f\"\\nCurrent mean revenue: {baseline_revenue:.2f} BRL\")\n",
    "print(f\"Target mean revenue: {baseline_revenue + minimum_effect_brl:.2f} BRL\")\n",
    "\n",
    "print(\"\\n\")\n",
    "\n",
    "# Business justification\n",
    "print(\"BUSINESS JUSTIFICATION:\")\n",
    "print(\"=\"*50)\n",
    "print(f\"Average shipping cost absorbed: {baseline_shipping:.2f} BRL\")\n",
    "print(f\"Required revenue increase to break even: {baseline_shipping:.2f} BRL\")\n",
    "print(f\"Our target increase: {minimum_effect_brl:.2f} BRL\")\n",
    "\n",
    "if minimum_effect_brl > baseline_shipping:\n",
    "    print(\"Target increase covers shipping costs!\")\n",
    "else:\n",
    "    print(\"Target increase may not fully cover shipping costs\")"
   ]
  },
  {
   "cell_type": "markdown",
   "metadata": {},
   "source": [
    "## Understanding\n",
    "\n",
    "### Note on Shipping Costs\n",
    "The assumed 5% revenue increase (about 8 BRL) is smaller than the average shipping cost (about 23 BRL). This is expected and realistic.\n",
    "\n",
    "### Key Points\n",
    "\n",
    "**1. Only some customers qualify**\n",
    "- Free shipping applies only to orders with value $$\\geq 100 \\text{ BRL}$$  \n",
    "- About 42% of orders are already above this level  \n",
    "- We absorb shipping costs only for these customers\n",
    "\n",
    "**2. Main impact is on smaller orders**\n",
    "- Around 58% of orders fall below 100 BRL  \n",
    "- Many of these customers are expected to add items to qualify  \n",
    "- Their basket size can grow by 20–30 BRL or more\n",
    "\n",
    "**3. Average effect across all treatment customers**\n",
    "- The treatment group includes:\n",
    "  - Customers already above 100 BRL (no behavior change, cost absorbed)\n",
    "  - Customers below 100 BRL (increase spending to qualify)\n",
    "- The 5% increase represents the blended average across both groups\n",
    "\n",
    "### Example\n",
    "- 100 customers in the treatment group  \n",
    "- 42 already spend $$\\geq 100 \\text{ BRL}$$ — no change, company absorbs about 23 BRL each  \n",
    "- 58 spend below 100 BRL — many add 20–30 BRL to reach the threshold  \n",
    "- Overall, this results in an average revenue increase of about 5–8%.\n"
   ]
  },
  {
   "cell_type": "code",
   "execution_count": 6,
   "metadata": {},
   "outputs": [
    {
     "name": "stdout",
     "output_type": "stream",
     "text": [
      "POWER ANALYSIS PARAMETERS:\n",
      "==================================================\n",
      "Significance level (alpha): 0.05\n",
      "Power (1-beta): 0.8\n",
      "Effect size: 0.0364\n",
      "Standard deviation: 220.47 BRL\n",
      "\n",
      "\n",
      "REQUIRED SAMPLE SIZE:\n",
      "==================================================\n",
      "Per group (treatment or control): 11,837 orders\n",
      "Total required: 23,674 orders\n",
      "\n",
      "Available orders in dataset: 98,666\n",
      "\n",
      "\n",
      "We have enough data for the experiment!\n",
      "  We'll use 24.0% of available data\n"
     ]
    }
   ],
   "source": [
    "# Power Analysis: How many customers do we need in each group?\n",
    "\n",
    "# Statistical parameters\n",
    "alpha = 0.05  # Significance level (5% chance of false positive)\n",
    "beta = 0.20   # 20% chance of false negative\n",
    "power = 1 - beta  # 80% power\n",
    "\n",
    "# Effect size (standardized)\n",
    "effect_size = minimum_effect_brl / revenue_std\n",
    "\n",
    "print(\"POWER ANALYSIS PARAMETERS:\")\n",
    "print(\"=\"*50)\n",
    "print(f\"Significance level (alpha): {alpha}\")\n",
    "print(f\"Power (1-beta): {power}\")\n",
    "print(f\"Effect size: {effect_size:.4f}\")\n",
    "print(f\"Standard deviation: {revenue_std:.2f} BRL\")\n",
    "\n",
    "print(\"\\n\")\n",
    "\n",
    "# Calculate required sample size per group\n",
    "# Formula: n = 2 * (Z_alpha + Z_beta)^2 * (std^2) / (effect^2)\n",
    "\n",
    "z_alpha = stats.norm.ppf(1 - alpha/2)  # Two-tailed test\n",
    "z_beta = stats.norm.ppf(power)\n",
    "\n",
    "numerator = 2 * ((z_alpha + z_beta) ** 2) * (revenue_std ** 2)\n",
    "denominator = (minimum_effect_brl ** 2)\n",
    "\n",
    "sample_size_per_group = math.ceil(numerator / denominator)\n",
    "total_sample_size = sample_size_per_group * 2\n",
    "\n",
    "print(\"REQUIRED SAMPLE SIZE:\")\n",
    "print(\"=\"*50)\n",
    "print(f\"Per group (treatment or control): {sample_size_per_group:,} orders\")\n",
    "print(f\"Total required: {total_sample_size:,} orders\")\n",
    "print(f\"\\nAvailable orders in dataset: {len(order_totals):,}\")\n",
    "\n",
    "print(\"\\n\")\n",
    "\n",
    "if len(order_totals) >= total_sample_size:\n",
    "    print(\"We have enough data for the experiment!\")\n",
    "    percentage_used = (total_sample_size / len(order_totals)) * 100\n",
    "    print(f\"  We'll use {percentage_used:.1f}% of available data\")\n",
    "else:\n",
    "    print(\"We don't have enough data for this effect size\")"
   ]
  },
  {
   "cell_type": "markdown",
   "metadata": {},
   "source": [
    "## Experiment Design Summary\n",
    "\n",
    "### Groups\n",
    "\n",
    "**Control Group (n=11,837):**\n",
    "- Current experience\n",
    "- Customers pay shipping costs\n",
    "- No changes to checkout process\n",
    "\n",
    "**Treatment Group (n=11,837):**\n",
    "- New experience\n",
    "- FREE SHIPPING for orders ≥100 BRL\n",
    "- Clear messaging at checkout: \"Add X BRL more for free shipping\"\n",
    "\n",
    "### Primary Metric\n",
    "**Revenue per order** (total amount customer pays)\n",
    "- Control: Expected mean = 160.58 BRL\n",
    "- Treatment: Expected mean = 168.61 BRL (5% increase)\n",
    "\n",
    "### Success Criteria\n",
    "Experiment succeeds if:\n",
    "1. Treatment revenue > Control revenue\n",
    "2. Difference is statistically significant (p < 0.05)\n",
    "3. Minimum 5% increase observed\n",
    "\n",
    "### Timeline\n",
    "- Test duration: 30 days (hypothetical)\n",
    "- Data collection: Continuous\n",
    "- Analysis: At end of period"
   ]
  },
  {
   "cell_type": "code",
   "execution_count": 7,
   "metadata": {},
   "outputs": [
    {
     "name": "stdout",
     "output_type": "stream",
     "text": [
      "RANDOMISATION PLAN:\n",
      "==================================================\n",
      "Total orders to use: 23,674\n",
      "Control group: 11,837 orders (50%)\n",
      "Treatment group: 11,837 orders (50%)\n",
      "\n",
      "\n",
      "Sample selected:\n",
      "  Selected: 23,674 orders\n",
      "  Remaining: 74,992 orders (not used)\n",
      "\n",
      "\n",
      "GROUP ASSIGNMENT:\n",
      "==================================================\n",
      "Control: 11,772 orders\n",
      "Treatment: 11,902 orders\n",
      "\n",
      "\n",
      "BALANCE CHECK (groups should be similar before treatment):\n",
      "==================================================\n",
      "Control group mean revenue: 159.20 BRL\n",
      "Treatment group mean revenue: 162.09 BRL\n",
      "Difference: 2.89 BRL\n",
      "Groups are well balanced!\n"
     ]
    }
   ],
   "source": [
    "# Randomisation Strategy\n",
    "\n",
    "# We will randomly assign orders to treatment or control\n",
    "# Using 50/50 split\n",
    "\n",
    "# Set random seed for reproducibility\n",
    "np.random.seed(42)\n",
    "\n",
    "# Calculate how many orders to use for experiment\n",
    "orders_for_experiment = total_sample_size\n",
    "\n",
    "print(\"RANDOMISATION PLAN:\")\n",
    "print(\"=\"*50)\n",
    "print(f\"Total orders to use: {orders_for_experiment:,}\")\n",
    "print(f\"Control group: {sample_size_per_group:,} orders (50%)\")\n",
    "print(f\"Treatment group: {sample_size_per_group:,} orders (50%)\")\n",
    "\n",
    "print(\"\\n\")\n",
    "\n",
    "# Select random sample of orders for the experiment\n",
    "experiment_orders = order_totals.sample(n=orders_for_experiment, random_state=42)\n",
    "\n",
    "print(\"Sample selected:\")\n",
    "print(f\"  Selected: {len(experiment_orders):,} orders\")\n",
    "print(f\"  Remaining: {len(order_totals) - len(experiment_orders):,} orders (not used)\")\n",
    "\n",
    "print(\"\\n\")\n",
    "\n",
    "# Randomly assign to treatment or control\n",
    "experiment_orders['group'] = np.random.choice(\n",
    "    ['control', 'treatment'], \n",
    "    size=len(experiment_orders), \n",
    "    p=[0.5, 0.5]\n",
    ")\n",
    "\n",
    "# Verify the split\n",
    "control_count = (experiment_orders['group'] == 'control').sum()\n",
    "treatment_count = (experiment_orders['group'] == 'treatment').sum()\n",
    "\n",
    "print(\"GROUP ASSIGNMENT:\")\n",
    "print(\"=\"*50)\n",
    "print(f\"Control: {control_count:,} orders\")\n",
    "print(f\"Treatment: {treatment_count:,} orders\")\n",
    "\n",
    "print(\"\\n\")\n",
    "\n",
    "# Check baseline balance (both groups should have similar starting metrics)\n",
    "print(\"BALANCE CHECK (groups should be similar before treatment):\")\n",
    "print(\"=\"*50)\n",
    "\n",
    "control_baseline = experiment_orders[experiment_orders['group'] == 'control']['order_total'].mean()\n",
    "treatment_baseline = experiment_orders[experiment_orders['group'] == 'treatment']['order_total'].mean()\n",
    "\n",
    "print(f\"Control group mean revenue: {control_baseline:.2f} BRL\")\n",
    "print(f\"Treatment group mean revenue: {treatment_baseline:.2f} BRL\")\n",
    "print(f\"Difference: {abs(treatment_baseline - control_baseline):.2f} BRL\")\n",
    "\n",
    "if abs(treatment_baseline - control_baseline) < 5:\n",
    "    print(\"Groups are well balanced!\")\n",
    "else:\n",
    "    print(\"Groups may not be perfectly balanced (but this is pre-treatment)\")"
   ]
  },
  {
   "cell_type": "code",
   "execution_count": 8,
   "metadata": {},
   "outputs": [
    {
     "name": "stdout",
     "output_type": "stream",
     "text": [
      "Experiment design saved successfully!\n",
      "File: data/processed/experiment_design.csv\n",
      "Contains: 23,674 orders with group assignments\n"
     ]
    }
   ],
   "source": [
    "# Save the experiment assignment for use in Notebook 03\n",
    "experiment_orders.to_csv('../data/processed/experiment_design.csv', index=False)\n",
    "\n",
    "print(\"Experiment design saved successfully!\")\n",
    "print(f\"File: data/processed/experiment_design.csv\")\n",
    "print(f\"Contains: {len(experiment_orders):,} orders with group assignments\")"
   ]
  },
  {
   "cell_type": "code",
   "execution_count": 9,
   "metadata": {},
   "outputs": [
    {
     "data": {
      "application/vnd.jupyter.widget-view+json": {
       "model_id": "9adf0a339a9046d288fbe34a108d2ad6",
       "version_major": 2,
       "version_minor": 0
      },
      "image/png": "[encoded data removed]",
      "text/html": [
       "\n",
       "            <div style=\"display: inline-block;\">\n",
       "                <div class=\"jupyter-widgets widget-label\" style=\"text-align: center;\">\n",
       "                    Figure\n",
       "                </div>\n",
       "                <img src='data:image/png;base64,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' width=700.0/>\n",
       "            </div>\n",
       "        "
      ],
      "text/plain": [
       "Canvas(toolbar=Toolbar(toolitems=[('Home', 'Reset original view', 'home', 'home'), ('Back', 'Back to previous …"
      ]
     },
     "metadata": {},
     "output_type": "display_data"
    },
    {
     "name": "stdout",
     "output_type": "stream",
     "text": [
      "Visualization saved!\n"
     ]
    }
   ],
   "source": [
    "# Visualize the experiment groups\n",
    "\n",
    "fig, axes = plt.subplots(1, 2, figsize=(7, 3))\n",
    "\n",
    "# Plot 1: Group sizes\n",
    "groups = ['Control', 'Treatment']\n",
    "sizes = [control_count, treatment_count]\n",
    "colors = ['lightblue', 'lightcoral']\n",
    "\n",
    "axes[0].bar(groups, sizes, color=colors, edgecolor='black')\n",
    "axes[0].set_ylabel('Number of Orders')\n",
    "axes[0].set_title('Experiment Group Sizes')\n",
    "axes[0].set_ylim(0, max(sizes) * 1.1)\n",
    "\n",
    "for i, v in enumerate(sizes):\n",
    "    axes[0].text(i, v + 200, f'{v:,}', ha='center', va='bottom', fontweight='bold')\n",
    "\n",
    "# Plot 2: Baseline revenue comparison\n",
    "baseline_means = [control_baseline, treatment_baseline]\n",
    "\n",
    "axes[1].bar(groups, baseline_means, color=colors, edgecolor='black')\n",
    "axes[1].set_ylabel('Mean Revenue (BRL)')\n",
    "axes[1].set_title('Pre-Treatment Baseline Revenue')\n",
    "axes[1].set_ylim(0, max(baseline_means) * 1.1)\n",
    "\n",
    "for i, v in enumerate(baseline_means):\n",
    "    axes[1].text(i, v + 5, f'{v:.2f} BRL', ha='center', va='bottom', fontweight='bold')\n",
    "\n",
    "plt.tight_layout()\n",
    "plt.savefig('../results/figures/experiment_design_overview.png', dpi=300, bbox_inches='tight')\n",
    "plt.show()\n",
    "\n",
    "print(\"Visualization saved!\")"
   ]
  },
  {
   "cell_type": "markdown",
   "metadata": {},
   "source": [
    "## Experiment Design Complete\n",
    "\n",
    "### Key Parameters\n",
    "- **Sample size per group:** 11,837 orders\n",
    "- **Total sample size:** 23,674 orders\n",
    "- **Significance level:** α = 0.05\n",
    "- **Statistical power:** 80%\n",
    "- **Minimum detectable effect:** 5% revenue increase (8.03 BRL)\n",
    "\n",
    "### Randomisation\n",
    "- Random 50/50 split\n",
    "- Groups are balanced (difference: 2.89 BRL)\n",
    "- Seed set for reproducibility (seed=42)\n",
    "\n",
    "### Expected Outcome\n",
    "If treatment is effective:\n",
    "- Control group: ~159.20 BRL per order\n",
    "- Treatment group: ~167.23 BRL per order (5% increase)\n",
    "- Statistical significance: p < 0.05"
   ]
  },
  {
   "cell_type": "code",
   "execution_count": null,
   "metadata": {},
   "outputs": [],
   "source": []
  },
  {
   "cell_type": "code",
   "execution_count": null,
   "metadata": {},
   "outputs": [],
   "source": []
  }
 ],
 "metadata": {
  "kernelspec": {
   "display_name": "base",
   "language": "python",
   "name": "python3"
  },
  "language_info": {
   "codemirror_mode": {
    "name": "ipython",
    "version": 3
   },
   "file_extension": ".py",
   "mimetype": "text/x-python",
   "name": "python",
   "nbconvert_exporter": "python",
   "pygments_lexer": "ipython3",
   "version": "3.12.2"
  }
 },
 "nbformat": 4,
 "nbformat_minor": 4
}
